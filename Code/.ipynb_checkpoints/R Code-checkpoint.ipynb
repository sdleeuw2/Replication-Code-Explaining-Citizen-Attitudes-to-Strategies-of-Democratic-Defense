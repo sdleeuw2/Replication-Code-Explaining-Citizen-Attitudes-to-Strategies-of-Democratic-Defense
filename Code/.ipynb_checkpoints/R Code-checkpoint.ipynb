{
 "cells": [
  {
   "cell_type": "markdown",
   "metadata": {},
   "source": [
    "**Explaining Citizen Attitudes to Strategies of Democratic Defense: Replication Code**  \n",
    "Forthcoming in *International Journal of Public Opinion Research*  \n",
    "Authors: Sjifra de Leeuw and Angela Bourne"
   ]
  },
  {
   "cell_type": "markdown",
   "metadata": {},
   "source": [
    "**Individual-level data** can be downloaded free of charge from: https://www.europeansocialsurvey.org/\n",
    "\n",
    "**Aggregate level data** can be downloaded on the repository and is compiled from:  \n",
    "    - de Leeuw, S.E., Rekker, R., Azrout, R. & Van Spanje, J. (2019). \"Democratic support and citizens' left-right self-placement\" in former left- and right-authoritarian countries\" [authoritarian legacies]\n",
    "    - Casal-Bertoa, F. & Bourne, A. (2017). \"Mapping 'militant democracy' Variation in Party Ban Practices in European Democracies (1945-2015)\" [judicial traditions & experience with party bans]"
   ]
  },
  {
   "cell_type": "markdown",
   "metadata": {},
   "source": [
    "## Preparation"
   ]
  },
  {
   "cell_type": "code",
   "execution_count": null,
   "metadata": {},
   "outputs": [],
   "source": [
    "install_and_load_if_absent = function(x){\n",
    "  for( i in x ){\n",
    "    if( ! require( i , character.only = TRUE ) ){ # require checks if package loads\n",
    "      install.packages( i , dependencies = TRUE ) # if not (FALSE), then install package i\n",
    "      require( i , character.only = TRUE ) # and load package\n",
    "    }}}\n",
    "\n",
    "# Install packages\n",
    "install_and_load_if_absent(\n",
    "    c(\"haven\",\"readxl\",\"lme4\", \"boot\", \"lmerTest\", \"nlme\", \n",
    "      \"psych\", \"plyr\", \"tidyverse\", \"nlme\", \"ltm\"))"
   ]
  },
  {
   "cell_type": "markdown",
   "metadata": {},
   "source": [
    "Individual-level data:"
   ]
  },
  {
   "cell_type": "code",
   "execution_count": null,
   "metadata": {},
   "outputs": [],
   "source": [
    "df = read_dta(\"path/to/directory/essfile.dta\") \n",
    "# split Germany into Eastern and Western part\n",
    "df$cntry[df$intewde==1] = \"East Germany\" \n",
    "df$cntry[df$intewde==2] = \"West Germany\" \n",
    "df$wave = (df$essround*2) + 2000\n",
    "df$countrywave = paste0(df$cntry, df$wave)"
   ]
  },
  {
   "cell_type": "markdown",
   "metadata": {},
   "source": [
    "Country-level data:"
   ]
  },
  {
   "cell_type": "code",
   "execution_count": null,
   "metadata": {},
   "outputs": [],
   "source": [
    "agg = read_xlsx(\"path/to/aggregated/file.xlsx\")\n",
    "agg$countrywave = paste0(agg$country, agg$year)\n",
    "df = merge(df, agg, by = c(\"countrywave\"))"
   ]
  },
  {
   "cell_type": "markdown",
   "metadata": {},
   "source": [
    "## Functions"
   ]
  },
  {
   "cell_type": "code",
   "execution_count": null,
   "metadata": {},
   "outputs": [],
   "source": [
    "# Function to obtain intra-class correlation from model object\n",
    "icc = function(m){\n",
    "  vc = as.data.frame((VarCorr(m)))\n",
    "  l = vc$vcov\n",
    "  data_frame(grp=vc$grp, icc=sapply(l, function(x){x/sum(l)}))}"
   ]
  },
  {
   "cell_type": "markdown",
   "metadata": {},
   "source": [
    "## Dependent and Independent Variables"
   ]
  },
  {
   "cell_type": "markdown",
   "metadata": {},
   "source": [
    "The **dependent variable** of this study is support for party bans. The initial question was phrased as \"Do you degree with the following statement: parties that wish to overthrow democracy should be banned.\" The scale of this question ranged from 1 \"compeletely agree\" to 5 \"completely disagree\". This scale was reversed so that 0 denotes complete disagreement and 4 complete agreement. "
   ]
  },
  {
   "cell_type": "code",
   "execution_count": null,
   "metadata": {},
   "outputs": [],
   "source": [
    "df$prtyban_i = 5-(as.numeric(df$prtyban)) # reverse scale"
   ]
  },
  {
   "cell_type": "markdown",
   "metadata": {},
   "source": [
    "Six hypotheses were formulated, each of which with another **independent variable**: legal tradition (H1), authoritarian past (H2), electoral entry barriers (H3), authoritarian tendencies (H4), ideological extremism (H5) and legal trust (H6). In addition, several individual level control variables were added: years of education, gender, age and wave. These chunks define the variables and their measurement level."
   ]
  },
  {
   "cell_type": "code",
   "execution_count": null,
   "metadata": {},
   "outputs": [],
   "source": [
    "# COUNTRY-LEVEL\n",
    "df$tradition = factor(df$tradition) # H1: Factor legal traditions\n",
    "df$legacy = factor(df$legacy) # H2: Factor legacy\n",
    "df$proportionality = as.numeric(df$proportionality) # H3: Numeric proportionality \n",
    "\n",
    "# INDIVIDUAL-LEVEL\n",
    "df$form = df$yrbrn + 18 # H4: Factor authoritarian tendencies\n",
    "df$soc = 0 \n",
    "df$soc[df$form>df$end] = 1  \n",
    "df$soc = factor(df$soc, levels = c(0,1), labels = c(\"During\", \"After\")) \n",
    "df$rad[df$lrscale <= 5 & df$lrscale >=5] = 1 # H5: Factor ideological radicalism\n",
    "df$rad[df$lrscale <= 1 & df$lrscale >=0] = 2\n",
    "df$rad[df$lrscale <= 4 & df$lrscale >=2] = 3\n",
    "df$rad[df$lrscale <= 8 & df$lrscale >=6] = 4\n",
    "df$rad[df$lrscale <= 10 & df$lrscale >=9] = 5\n",
    "df$rad = factor(df$rad, levels = c(1,2,3,4,5), labels = c(\"Center\", \"Far Left\", \"Center Left\", \"Center Right\", \"Far Right\"))\n",
    "df$trust = rowMeans(cbind(df$trstlgl,df$trstplc,df$trstprl,df$trstplt,df$trstprt), na.rm=TRUE) # H6: Factor institutional Trust\n",
    "\n",
    "# CONTROLS\n",
    "df$wave = factor(df$essround, labels = c(\"Wave 1\", \"Wave 2\", \"Wave 3\", \"Wave 4\", \"Wave 5\")) # wave\n",
    "df$gndr = factor(df$gndr, labels = c(\"Male\", \"Female\")) # gender\n",
    "df = ddply(df,.(cntry),transform,lrscale_m = mean(lrscale, na.rm=TRUE))\n",
    "df = ddply(df,.(cntry),transform, agea_m = mean(agea, na.rm=TRUE))\n",
    "df = ddply(df,.(cntry),transform,trust_m = mean(trust, na.rm=TRUE))\n",
    "df = ddply(df,.(cntry),transform,eduyrs_m = mean(eduyrs, na.rm=TRUE))\n",
    "df$lrscale_c = (df$lrscale - df$lrscale_m) # centered variables\n",
    "df$agea_c = (df$agea - df$agea_m)\n",
    "df$trust_c = (df$trust - df$trust_m)\n",
    "df$eduyrs_c = (df$eduyrs - df$eduyrs_m) \n",
    "df$agea_r = (df$agea_c - min(df$agea_c, na.rm = TRUE)) / max((df$agea_c - min(df$agea_c, na.rm = TRUE)), na.rm = TRUE) # rescaled variables\n",
    "df$trust_r = (df$trust_c - min(df$trust_c, na.rm = TRUE)) / max((df$trust_c - min(df$trust_c, na.rm = TRUE)), na.rm = TRUE)\n",
    "df$eduyrs_r = (df$eduyrs_c - min(df$eduyrs_c, na.rm = TRUE)) / max((df$eduyrs_c - min(df$eduyrs_c, na.rm = TRUE)), na.rm = TRUE)\n",
    "df$proportionality_4 = (df$proportionality - min(df$proportionality, na.rm = TRUE)) / max((df$proportionality - min(df$proportionality, na.rm = TRUE)), na.rm = TRUE)"
   ]
  },
  {
   "cell_type": "markdown",
   "metadata": {},
   "source": [
    "Reliability mean-scale trust:"
   ]
  },
  {
   "cell_type": "code",
   "execution_count": null,
   "metadata": {},
   "outputs": [],
   "source": [
    "cronbach.alpha(data = data.frame(\n",
    "    cbind(df$trstlgl,df$trstplc,df$trstprl,df$trstplt,df$trstprt)), # items trust\n",
    "    standardized = FALSE, CI = FALSE, probs = c(0.025, 0.975), B = 1000, na.rm = TRUE) # 95% CI"
   ]
  },
  {
   "cell_type": "markdown",
   "metadata": {},
   "source": [
    "## Summary Statistics Variables in Models\n",
    "\n",
    "i.e. the recoded and rescaled variables."
   ]
  },
  {
   "cell_type": "code",
   "execution_count": null,
   "metadata": {},
   "outputs": [],
   "source": [
    "# Continuous variables have been centered around the country-mean and rescaled from 0-1\n",
    "rbind(data.frame(variable = \"Party Ban\", describe(df$prtyban_i)),\n",
    "      data.frame(variable = \"Age\", describe(df$agea_r)), \n",
    "      data.frame(variable = \"Trust\", describe(df$trust_r)),\n",
    "      data.frame(variable = \"Education\", describe(df$eduyrs_r)),\n",
    "      data.frame(variable = \"Proportionality\", describe(df$proportionality_r)))"
   ]
  },
  {
   "cell_type": "code",
   "execution_count": null,
   "metadata": {},
   "outputs": [],
   "source": [
    "# Categorical variables\n",
    "rbind(data.frame(variable = \"Legal Tradition\", table(df$tradition)),\n",
    "      data.frame(variable = \"Legacy\", table(df$legacy)),\n",
    "      data.frame(variable = \"Socialization\", table(df$soc)),\n",
    "      data.frame(variable = \"Radicalism\", table(df$rad)),\n",
    "      data.frame(variable = \"Wave\", table(df$wave)),\n",
    "      data.frame(variable = \"Gender\", table(df$gndr)))"
   ]
  },
  {
   "cell_type": "markdown",
   "metadata": {},
   "source": [
    "## Multilevel Models\n",
    "\n",
    "**Model 0:** Intercept only model"
   ]
  },
  {
   "cell_type": "code",
   "execution_count": null,
   "metadata": {},
   "outputs": [],
   "source": [
    "# Null-model\n",
    "summary((m0 = lmer(prtyban_i ~ (1|countrywave) + (1|wave) + (1|cntry), df))) \n",
    "icc(m0)"
   ]
  },
  {
   "cell_type": "markdown",
   "metadata": {},
   "source": [
    "**Model 1:** Legal Traditions"
   ]
  },
  {
   "cell_type": "code",
   "execution_count": null,
   "metadata": {},
   "outputs": [],
   "source": [
    "summary((m1 = lmer(prtyban_i ~ tradition + agea_r + gndr + eduyrs_r  + (1|countrywave) + (1|wave) + (1|cntry), df))) \n",
    "icc(m1)\n",
    "m1_b = confint(m1,parm=c(5:9),method=\"boot\", nsim= 10000,boot.type=\"perc\", seed = 1) # Bootstrapped\n",
    "m1_b"
   ]
  },
  {
   "cell_type": "markdown",
   "metadata": {},
   "source": [
    "**Model 2:** Legacy"
   ]
  },
  {
   "cell_type": "code",
   "execution_count": null,
   "metadata": {},
   "outputs": [],
   "source": [
    "summary((m2 = lmer(prtyban_i ~ legacy + agea_r + gndr + eduyrs_r  + (1|countrywave) + (1|wave) + (1|cntry), df))) \n",
    "icc(m2)\n",
    "m2_b = confint(m2,parm=c(5:11),method=\"boot\",nsim=10000,boot.type=\"perc\", seed = 1) # Bootstrapped\n",
    "m2_b"
   ]
  },
  {
   "cell_type": "markdown",
   "metadata": {},
   "source": [
    "**Model 3:** Proportionality "
   ]
  },
  {
   "cell_type": "code",
   "execution_count": null,
   "metadata": {},
   "outputs": [],
   "source": [
    "summary((m3 = lmer(prtyban_i ~ proportionality_r + agea_r + gndr + eduyrs_r  + (1|countrywave) + (1|wave) + (1|cntry), df))) \n",
    "icc(m3)\n",
    "m3_b = confint(m3,parm=c(5:9),method=\"boot\",nsim=10000,boot.type=\"perc\", seed = 1)\n",
    "m3_b"
   ]
  },
  {
   "cell_type": "markdown",
   "metadata": {},
   "source": [
    "**Model 4:** Pooled"
   ]
  },
  {
   "cell_type": "code",
   "execution_count": null,
   "metadata": {},
   "outputs": [],
   "source": [
    "summary((m4 = lmer(prtyban_i ~ tradition + legacy + proportionality_r + \n",
    "                   agea_r + gndr + eduyrs_r  + (1|countrywave) + (1|wave) + (1|cntry), df))) \n",
    "icc(m4)\n",
    "m4_b = confint(m4,parm=c(5:9),method=\"boot\",nsim=10000,boot.type=\"perc\", seed = 1)\n",
    "m4_b"
   ]
  },
  {
   "cell_type": "markdown",
   "metadata": {},
   "source": [
    "**Model 5**: Authoritarian Tendencies"
   ]
  },
  {
   "cell_type": "code",
   "execution_count": null,
   "metadata": {},
   "outputs": [],
   "source": [
    "summary((m5 = lmer(prtyban_i ~ soc + agea_r + gndr + eduyrs_r  + (1|countrywave) + (1|wave) + (1|cntry), df))) \n",
    "icc(m5)\n",
    "m5_b = confint(m5,parm=c(3:11),method=\"boot\",nsim=10000,boot.type=\"perc\", seed = 1)\n",
    "m5_b"
   ]
  },
  {
   "cell_type": "markdown",
   "metadata": {},
   "source": [
    "**Model 6:** Ideological Radicalism"
   ]
  },
  {
   "cell_type": "code",
   "execution_count": null,
   "metadata": {},
   "outputs": [],
   "source": [
    "summary((m6 = lmer(prtyban_i ~ rad + agea_r + gndr + eduyrs_r  + (1|countrywave) + (1|wave) + (1|cntry), df))) \n",
    "icc(m6)\n",
    "m6_b = confint(m6,parm=c(3:11),method=\"boot\",nsim=10000,boot.type=\"perc\", seed = 1)\n",
    "m6_b"
   ]
  },
  {
   "cell_type": "markdown",
   "metadata": {},
   "source": [
    "**Model 7:** Trust"
   ]
  },
  {
   "cell_type": "code",
   "execution_count": null,
   "metadata": {},
   "outputs": [],
   "source": [
    "summary((m7 = lmer(prtyban_i ~ trust_r + agea_r + gndr + eduyrs_r  + (1|countrywave) + (1|wave) + (1|cntry), df))) \n",
    "icc(m7)\n",
    "m7_b = confint(m7,parm=c(5:9),method=\"boot\",nsim=10000,boot.type=\"perc\", seed = 1) # Bootstrapped\n",
    "m7_b"
   ]
  },
  {
   "cell_type": "markdown",
   "metadata": {},
   "source": [
    "**Model 8:** Pooled"
   ]
  },
  {
   "cell_type": "code",
   "execution_count": null,
   "metadata": {},
   "outputs": [],
   "source": [
    "summary((m8 = lmer(prtyban_i ~ soc + rad + trust_r + \n",
    "                   agea_r + gndr + eduyrs_r  + (1|countrywave) + (1|wave) + (1|cntry), df))) \n",
    "icc(m8)\n",
    "m8_b = confint(m8,parm=c(3:16),method=\"boot\",nsim=500,boot.type=\"perc\", seed = 1) # Bootstrapped\n",
    "m8_b"
   ]
  },
  {
   "cell_type": "markdown",
   "metadata": {},
   "source": [
    "## Figure 1: Support for Partybans by Country"
   ]
  },
  {
   "cell_type": "code",
   "execution_count": null,
   "metadata": {},
   "outputs": [],
   "source": [
    "library(ggplot2)\n",
    "library(dplyr)\n",
    "library(ggpubr)\n",
    "library(likert)"
   ]
  },
  {
   "cell_type": "markdown",
   "metadata": {},
   "source": [
    "Import data figure"
   ]
  },
  {
   "cell_type": "code",
   "execution_count": null,
   "metadata": {},
   "outputs": [],
   "source": [
    "likert_no = read_csv(\"path/to/data_figure_no_partyban.csv\")\n",
    "likert_yes = read_csv(\"path/to/data_figure_partyban.csv\")"
   ]
  },
  {
   "cell_type": "markdown",
   "metadata": {},
   "source": [
    "Convert to factor variables and label factors"
   ]
  },
  {
   "cell_type": "code",
   "execution_count": null,
   "metadata": {},
   "outputs": [],
   "source": [
    "likert_no = sapply(likert_no, function(x) \n",
    "    factor(x, levels = c(1:5), labels = c(\"Strongly Disagree\", \"Disagree\", \"Agree Nor Disagree\", \"Agree\", \"Strongly Agree\")))\n",
    "likert_no = data.frame(likert_no)\n",
    "                   \n",
    "likert_yes = sapply(likert_yes, function(x) \n",
    "    factor(x, levels = c(1:5), labels = c(\"Strongly Disagree\", \"Disagree\", \"Agree Nor Disagree\", \"Agree\", \"Strongly Agree\")))\n",
    "likert_yes = data.frame(likert_yes)"
   ]
  },
  {
   "cell_type": "markdown",
   "metadata": {},
   "source": [
    "Convert dataset to likert dataset"
   ]
  },
  {
   "cell_type": "code",
   "execution_count": null,
   "metadata": {},
   "outputs": [],
   "source": [
    "likert_no = likert(likert_no)\n",
    "likert_yes = likert(likert_yes)"
   ]
  },
  {
   "cell_type": "markdown",
   "metadata": {},
   "source": [
    "Plot likert scales"
   ]
  },
  {
   "cell_type": "code",
   "execution_count": null,
   "metadata": {},
   "outputs": [],
   "source": [
    "p1 = plot(likert_no, legend.position=\"right\") + \n",
    "  theme_bw() + \n",
    "  theme(axis.text = element_text(colour=\"black\", size=\"10\"),\n",
    "        legend.title = element_blank(), \n",
    "        strip.background = element_rect(fill = \"grey90\"), \n",
    "        strip.text = element_text(face = \"bold\")) +\n",
    "  facet_grid(. ~ \"No Experience with Party Bans\")\n",
    "\n",
    "p2 = plot(likert_yes, legend.position=\"right\") + \n",
    "  theme_bw() + \n",
    "  theme(axis.text = element_text(colour=\"black\", size=\"10\"),\n",
    "        axis.text.x = element_blank(), \n",
    "        axis.title.x=element_blank(),\n",
    "        axis.ticks.x = element_blank(),\n",
    "        legend.title = element_blank(),\n",
    "        strip.background = element_rect(fill = \"grey90\"), \n",
    "        strip.text = element_text(face = \"bold\")) +\n",
    "  facet_grid(. ~ \"Prior Experience with Party Bans\")\n",
    "\n",
    "ggarrange(p2, p1, nrow = 2, common.legend = TRUE, heights = c(1.15,1), legend = \"right\") \n",
    "dev.copy(png,'figure1.png', height = 4000, width = 4000, res = 500)\n",
    "dev.off()"
   ]
  }
 ],
 "metadata": {
  "kernelspec": {
   "display_name": "R",
   "language": "R",
   "name": "ir"
  },
  "language_info": {
   "codemirror_mode": "r",
   "file_extension": ".r",
   "mimetype": "text/x-r-source",
   "name": "R",
   "pygments_lexer": "r",
   "version": "3.5.1"
  }
 },
 "nbformat": 4,
 "nbformat_minor": 2
}

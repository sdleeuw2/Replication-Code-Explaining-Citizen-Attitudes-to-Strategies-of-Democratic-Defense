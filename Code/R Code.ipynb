{
 "cells": [
  {
   "cell_type": "markdown",
   "metadata": {},
   "source": [
    "**Explaining Citizen Attitudes to Strategies of Democratic Defense: Replication Code**\n",
    "\n",
    "Forthcoming in *International Journal of Public Opinion Research*\n",
    "\n",
    "Authors: Sjifra de Leeuw and Angela Bourne"
   ]
  },
  {
   "cell_type": "markdown",
   "metadata": {},
   "source": [
    "**Individual-level data** can be downloaded free of charge from: https://www.europeansocialsurvey.org/\n",
    "\n",
    "**Aggregate level data** is compiled from:\n",
    "\n",
    "    - de Leeuw, S.E., Rekker, R., Azrout, R. & Van Spanje, J. (2019). \"Democratic support and citizens' left-right self-placement\" in former left- and right-authoritarian countries\" [authoritarian legacies]\n",
    "    - Casal-Bertoa, F. & Bourne, A. (2017). \"Mapping 'militant democracy' Variation in Party Ban Practices in European Democracies (1945-2015)\" [judicial traditions & experience with party bans]"
   ]
  },
  {
   "cell_type": "code",
   "execution_count": null,
   "metadata": {},
   "outputs": [],
   "source": [
    "library(haven)\n",
    "library(lme4)\n",
    "library(plyr)\n",
    "library(psych)\n",
    "library(data.table)\n",
    "library(tidyverse)\n",
    "library(boot)\n",
    "library(lmerTest)\n",
    "library(nlme)\n",
    "library(ltm)"
   ]
  },
  {
   "cell_type": "code",
   "execution_count": null,
   "metadata": {},
   "outputs": [],
   "source": [
    "df = read_dta(\"path/to/directory/essfile.dta\") # to import ESS data\n"
   ]
  }
 ],
 "metadata": {
  "kernelspec": {
   "display_name": "R",
   "language": "R",
   "name": "ir"
  },
  "language_info": {
   "codemirror_mode": "r",
   "file_extension": ".r",
   "mimetype": "text/x-r-source",
   "name": "R",
   "pygments_lexer": "r",
   "version": "3.5.1"
  }
 },
 "nbformat": 4,
 "nbformat_minor": 2
}
